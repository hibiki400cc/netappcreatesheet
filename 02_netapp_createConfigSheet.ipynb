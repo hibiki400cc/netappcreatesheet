{
  "nbformat": 4,
  "nbformat_minor": 0,
  "metadata": {
    "colab": {
      "name": "02_netapp_createConfigSheet.ipynb",
      "provenance": [],
      "collapsed_sections": [],
      "authorship_tag": "ABX9TyMn2MxbJ0XeIpjAmjllxzbE",
      "include_colab_link": true
    },
    "kernelspec": {
      "name": "python3",
      "display_name": "Python 3"
    }
  },
  "cells": [
    {
      "cell_type": "markdown",
      "metadata": {
        "id": "view-in-github",
        "colab_type": "text"
      },
      "source": [
        "<a href=\"https://colab.research.google.com/github/hibiki400cc/netappcreatesheet/blob/main/02_netapp_createConfigSheet.ipynb\" target=\"_parent\"><img src=\"https://colab.research.google.com/assets/colab-badge.svg\" alt=\"Open In Colab\"/></a>"
      ]
    },
    {
      "cell_type": "code",
      "metadata": {
        "id": "IQbYxhDhR09N"
      },
      "source": [
        "#@title NetAppの設定書を自動的につくる\n",
        "\n",
        "# 使い方\n",
        "# 01_nettapp_getParamater.txtを機器で実行し、パラメータを取得する。\n",
        "# http://400cc.blog.fc2.com/blog-entry-113.html\n",
        "\n",
        "# 出力された結果をテキストに貼りつけ、保存する。\n",
        "\n",
        "# テキストを左のファイルにドラッグアンドドロップする\n",
        "\n",
        "# ファイル名をnetappp_souce_fileに入力する。\n",
        "\n",
        "# 実行　( ctlr + F9 )\n",
        "\n",
        "#[課題]  ,カンマで改行したい\n",
        "\n",
        "#[課題]  snmp-traphostが表にならない\n",
        "\n"
      ],
      "execution_count": null,
      "outputs": []
    },
    {
      "cell_type": "code",
      "metadata": {
        "id": "-wI25BqPUpLJ"
      },
      "source": [
        "#@title ソースファイル名を入力\n",
        "netapp_source_file = 'source.txt' #@param {type:\"string\"}\n",
        "netapp_source_path = '/content/' + netapp_source_file\n",
        "\n",
        "anken_name = \"\\u6848\\u4EF6\\u540D\" #@param {type:\"string\"}\n",
        "customer_corp = \"\\u4F1A\\u793E\\u540D\" #@param {type:\"string\"}\n",
        "customer_name = \"\\u9867\\u5BA2\\u62C5\\u5F53\\u8005\"  #@param {type:\"string\"}\n",
        "customer_tel = \"\\u4F1A\\u793E\\u96FB\\u8A71\\u756A\\u53F7\" #@param {type:\"string\"}\n",
        "customer_mail = \"\\u9867\\u5BA2\\u62C5\\u5F53\\u8005\\u30E1\\u30FC\\u30EB\\u30A2\\u30C9\\u30EC\\u30B9\" #@param {type:\"string\"}\n",
        "location_address= \"\\u8A2D\\u7F6E\\u5148\\u4F4F\\u6240\"#@param {type:\"string\"}\n",
        "\n",
        "\n",
        "customer_list = [ \n",
        "                 ['会社名' , customer_corp],\n",
        "                 ['担当者' , customer_name],\n",
        "                 ['電話番号' , customer_tel],\n",
        "                 ['メールアドレス' , customer_mail],\n",
        "                 ['設置先情報' , location_address],\n",
        "                 ]\n"
      ],
      "execution_count": null,
      "outputs": []
    },
    {
      "cell_type": "code",
      "metadata": {
        "id": "YHr3Vf0r8ixq"
      },
      "source": [
        "#@title 検索文字列リスト\n",
        "\n",
        "cluster_word_list =  [\"(Cluster Name):(.*)\" ,\"cluster_name\"]    \n",
        "\n",
        "# 置換するワード(完全一致)\n",
        "replace_word_list = [\n",
        "                      ['#_ ',\"\"],\n",
        "                      [\"sheet.\",\"\"],\n",
        "                      [\"Sheet\",\"\"],\n",
        "                      ['version -node *',\"\"],\n",
        "                      ['NetApp Release ',\"\"],\n",
        "                      ['Cluster Location: \\n',\"\"],\n",
        "                      ['Cluster Contact: \\n',\"\"],\n",
        "                      ['(from \"system snmp traphost\")',\"\"],\n",
        "                      [\"There are no entries matching your query.\" , \"設定無し\"],\n",
        "                      [ '-spare-disks',\"\"],\n",
        "                      ['original-owner',\"node\"],\n",
        "\n",
        "                   ]\n",
        "\n",
        "# 置換するワード（正規表現）\n",
        "sub_word_list = [\n",
        "                  ['Cluster UUID: .{2,300}\\n',\"\"],\n",
        "                  ['Cluster Name: .{2,300}\\n',\"\"],\n",
        "                  ['Cluster Serial Number: .{2,300}\\n',\"\"],\n",
        "                  ['\\d{1,2} entries were displayed.',\"\"],\n",
        "                  ['\\n-*-',\"\"],\n",
        "                  [ '--*--',\"\"],\n",
        "                  ['.{2,100} show|-fields.{2,300}\\n',\"\"],\n",
        "                  ['local-usable-root-size',\"root-partiton\"],\n",
        "                  ['local-usable-data-size',\"data-patition\"],\n",
        "                ]\n",
        "                 \n"
      ],
      "execution_count": null,
      "outputs": []
    },
    {
      "cell_type": "code",
      "metadata": {
        "id": "2hZ-OfIOVuL9",
        "cellView": "form"
      },
      "source": [
        "#@title [import] ライブラリ読み込み\n",
        "\n",
        "#エクセル操作\n",
        "!pip install openpyxl\n",
        "\n",
        "#ライブラリのインポート\n",
        "import re\n",
        "\n",
        "#エクセル操作\n",
        "import openpyxl\n",
        "import pprint\n",
        "import glob\n",
        "from openpyxl.styles.borders import Border, Side\n",
        "from openpyxl.styles.alignment import Alignment\n",
        "\n",
        "#フォント\n",
        "from openpyxl.styles.fonts import Font\n",
        "\n",
        "#ファイル操作用\n",
        "import shutil\n",
        "import os\n",
        "\n",
        "# 時間取得\n",
        "import datetime\n",
        "\n",
        "# ファイルダウンロード\n",
        "from google.colab import files"
      ],
      "execution_count": null,
      "outputs": []
    },
    {
      "cell_type": "code",
      "metadata": {
        "id": "BiBvL-m6WRt9",
        "cellView": "form"
      },
      "source": [
        "#@title　 [関数]  ファイル、フォルダ初期化\n",
        "\n",
        "def initConfigfolder():\n",
        "  \n",
        "  #configフォルダがあれば、削除\n",
        "  if os.path.exists('/content/config'):\n",
        "    shutil.rmtree('/content/config')\n",
        "\n",
        "  #configフォルダを新規作成\n",
        "  os.mkdir('/content/config')"
      ],
      "execution_count": null,
      "outputs": []
    },
    {
      "cell_type": "code",
      "metadata": {
        "id": "WAm06V3IweaD",
        "cellView": "form"
      },
      "source": [
        "#@title [関数]  元テキストデータを読み込み\n",
        "def readConfig():\n",
        "  config_path = netapp_source_path\n",
        "  config_raw = open( config_path, 'r' ,encoding=\"ISO-8859-1\")\n",
        "  config_text = config_raw.read()\n",
        "\n",
        "  return config_text"
      ],
      "execution_count": null,
      "outputs": []
    },
    {
      "cell_type": "code",
      "metadata": {
        "id": "AClymLF79pvD",
        "cellView": "form"
      },
      "source": [
        "#@title [関数]　検索する文字の行を取得する関数\n",
        "def getPatternline( word_line):\n",
        "\n",
        "  #検索文字列を代入\n",
        "  pattern = word_line[0]\n",
        "\n",
        "  #検索して行を抽出\n",
        "  res = re.findall(pattern, readConfig())\n",
        "  print (res)\n",
        "  return res"
      ],
      "execution_count": null,
      "outputs": []
    },
    {
      "cell_type": "code",
      "metadata": {
        "id": "taeMHhaJe2tH",
        "cellView": "form"
      },
      "source": [
        "#@title [関数] 不要な文字列を削除\n",
        "\n",
        "def replaceConfig( ):\n",
        "\n",
        "  # <先頭文字列>を削除\n",
        "  config_text001 = readConfig().replace( cluster_name + '::*>' , \"\")\n",
        "  config_text001 = config_text001.replace( cluster_name + '::>' , \"\")\n",
        "\n",
        "  for replace in range (len(sub_word_list)) :\n",
        "    # 不要文字リストを削除\n",
        "    config_text001 = re.sub( sub_word_list[replace][0] , sub_word_list[replace][1]  , config_text001 )\n",
        "\n",
        "  for delete in range (len(replace_word_list)) :\n",
        "    # 不要文字リストを削除\n",
        "    config_text001 = config_text001.replace( replace_word_list[delete][0]  , replace_word_list[delete][1])\n",
        " \n",
        "  \n",
        "  return config_text001"
      ],
      "execution_count": null,
      "outputs": []
    },
    {
      "cell_type": "code",
      "metadata": {
        "id": "TcqAXGJblg1V",
        "cellView": "form"
      },
      "source": [
        "#@title [関数]　元テキストを分割\n",
        "def splitConfig(  ):\n",
        "\n",
        "  # 元テキストデータを分割し、1次元リストに代入\n",
        "  config_split_list = replaceConfig().split( '#___' )\n",
        "\n",
        "  # テキストファイルを分割（リストごとにテキストファイルを作成）\n",
        "  for line in range ( len(config_split_list) ):\n",
        "\n",
        "    #ファイルを新規作成  \n",
        "    config_split_path =  '/content/config/config_' + str(line).zfill(3) + '.txt'\n",
        "    f = open(config_split_path , 'w' )\n",
        "\n",
        "    #ファイルを書き込み\n",
        "    f.write( config_split_list[ line ])\n",
        "    f.close\n",
        "\n",
        "  return config_split_list"
      ],
      "execution_count": null,
      "outputs": []
    },
    {
      "cell_type": "code",
      "metadata": {
        "id": "VQqCnBNxAuuO",
        "cellView": "form"
      },
      "source": [
        "#@title [関数] 分割したテキストファイルの読み込み\n",
        "\n",
        "def readConfigsplit( config_file ):\n",
        "  config_path = config_file\n",
        "  config_raw = open(config_path , 'r' ,encoding=\"UTF-8\")\n",
        "\n",
        "  # 1行ずつ配列に追加\n",
        "  row_no = 0\n",
        "  config_rows = []\n",
        "\n",
        "  while True :\n",
        "    config_rows.append( config_raw.readline() )\n",
        "\n",
        "    if config_rows[row_no]:\n",
        "      row_no += 1\n",
        "    else :\n",
        "      break\n",
        "\n",
        "  # 1行ずつ配列に追加\n",
        "  config_list = []\n",
        "  for config_i in range ( len(config_rows) ):\n",
        "    config_list.append( config_rows[ config_i ].split() )\n",
        "\n",
        "  return config_list "
      ],
      "execution_count": null,
      "outputs": []
    },
    {
      "cell_type": "code",
      "metadata": {
        "id": "hE55Q_ujXYLE",
        "cellView": "form"
      },
      "source": [
        "#@title [関数] 印刷設定\n",
        "def printConfig(current_sheet):\n",
        "  current_sheet.page_setup.fitToWidth = 1\n",
        "  current_sheet.page_setup.fitToHeight = 0\n",
        "  current_sheet.sheet_properties.pageSetUpPr.fitToPage = True\n"
      ],
      "execution_count": null,
      "outputs": []
    },
    {
      "cell_type": "code",
      "metadata": {
        "id": "T5sLfYOosDGF",
        "cellView": "form"
      },
      "source": [
        "#@title [関数] タイトル装飾\n",
        "def setSheettitle (current_sheet):\n",
        "\n",
        "  #タイトル文字色を白に変更\n",
        "  current_sheet['B2'].font = Font(color='FFFFFF' ,size=18)\n",
        " \n",
        "  #タイトル行を紺色にする \n",
        "  for color_rows in current_sheet['B2':'I2']:\n",
        "    for cell in color_rows:\n",
        "      cell.fill = openpyxl.styles.PatternFill(patternType='solid',fgColor='191970',bgColor='191970')\n",
        "\n",
        "\n",
        "  #2行目の列幅を広くする\n",
        "  current_sheet.row_dimensions[2].height = 32\n",
        "\n"
      ],
      "execution_count": null,
      "outputs": []
    },
    {
      "cell_type": "code",
      "metadata": {
        "id": "_ylE-2jYwCzr",
        "cellView": "form"
      },
      "source": [
        "#@title [関数] テーブルの描画\n",
        "def drawTable( current_sheet ,table_start ,table_end):\n",
        "  \n",
        "  # テーブルスタイルを定義\n",
        "  tableStyle = openpyxl.worksheet.table.TableStyleInfo( name='TableStyleMedium2',  showRowStripes=True)\n",
        "\n",
        "  # テーブルの範囲を定義 \n",
        "  table = openpyxl.worksheet.table.Table( ref= table_start +':' + table_end  ,displayName='',tableStyleInfo=tableStyle, headerRowCount=1)\n",
        "\n",
        "  #フィルタが消える　（しかしヘッダの書式も消える）\n",
        "  #table = openpyxl.worksheet.table.Table( ref= table_start +':' + table_end  ,displayName='',tableStyleInfo=tableStyle, headerRowCount=0)\n",
        "\n",
        "  #テーブルを挿入\n",
        "  current_sheet.add_table(table)\n",
        "\n"
      ],
      "execution_count": null,
      "outputs": []
    },
    {
      "cell_type": "code",
      "metadata": {
        "id": "SMFJSz2hqH5q",
        "cellView": "form"
      },
      "source": [
        "#@title [関数] A列を狭く、B～H列の幅調整\n",
        "def setColume_size (current_sheet):\n",
        "  current_sheet.column_dimensions['A'].width = 3\n",
        "  for i in range(ord('B'),ord('I')+1):\n",
        "    current_sheet.column_dimensions[chr(i)].width = 15\n"
      ],
      "execution_count": null,
      "outputs": []
    },
    {
      "cell_type": "code",
      "metadata": {
        "cellView": "form",
        "id": "F1cXM_MIxdNo"
      },
      "source": [
        "#@title [関数] 表紙作成\n",
        "def createCover(cluster_name):\n",
        "\n",
        "  book.create_sheet( '表紙' )\n",
        "  current_sheet = book[ '表紙'] \n",
        "\n",
        "  #目盛り線削除\n",
        "  current_sheet.sheet_view.showGridLines = False\n",
        "\n",
        "  #枠作成（セル結合）\n",
        "  current_sheet.merge_cells( 'B34:H38' )\n",
        "  current_sheet.merge_cells( 'B39:H41' )\n",
        "  current_sheet.merge_cells( 'B42:H45' )\n",
        "  current_sheet.merge_cells( 'D46:F48' )\n",
        "\n",
        "  #列幅\n",
        "  current_sheet.column_dimensions['A'].width = 3\n",
        "  current_sheet.column_dimensions['I'].width = 3\n",
        "\n",
        "  #案件名\n",
        "  current_sheet['H32'].value = '1.0.0版'\n",
        "  current_sheet['H32'].alignment = Alignment(horizontal = 'right', vertical = 'center', wrap_text = False)\n",
        "\n",
        "  #案件名\n",
        "  current_sheet['B34'].value = anken_name\n",
        "  current_sheet['B34'].font  = Font(size=16 )\n",
        "  current_sheet['B34'].alignment = Alignment(horizontal = 'center', vertical = 'center', wrap_text = False)\n",
        "\n",
        "  #機器、OS名\n",
        "  current_sheet['B39'].value = '設定シート'\n",
        "  current_sheet['B39'].font  = Font(size=26 )\n",
        "  current_sheet['B39'].alignment = Alignment(horizontal = 'center', vertical = 'center', wrap_text = False)\n",
        "\n",
        "  #機器、OS名\n",
        "  current_sheet['B42'].value = 'NetApp Clustered ONTAP 9'\n",
        "  current_sheet['B42'].font  = Font(size=26 )\n",
        "  current_sheet['B42'].alignment = Alignment(horizontal = 'center', vertical = 'center', wrap_text = False)\n",
        "\n",
        "\n",
        "  #クラスター名\n",
        "  current_sheet['D46'].value = 'クラスター名 : ' + cluster_name\n",
        "  current_sheet['D46'].font  = Font(size=11 )\n",
        "  current_sheet['D46'].alignment = Alignment(horizontal = 'center', vertical = 'center', wrap_text = False)\n",
        "\n",
        "\n",
        "  # 罫線スタイル\n",
        "  side = Side(style='thin', color='000000')\n",
        "  border = Border(top=side, bottom=side, left=side, right=side)\n",
        "\n",
        "  #罫線を描画\n",
        "  for rows in current_sheet['B34':'H38']:\n",
        "    for cell in rows:\n",
        "        cell.border = Border(left = side, right = side, top = side, bottom = side)\n",
        "  \n",
        "  #列幅を調整\n",
        "  for i in range(ord('B'),ord('H')+1):\n",
        "    current_sheet.column_dimensions[chr(i)].width = 15\n",
        "\n",
        "  #印刷設定\n",
        "  printConfig(current_sheet)"
      ],
      "execution_count": null,
      "outputs": []
    },
    {
      "cell_type": "code",
      "metadata": {
        "id": "68h77W4BzLMw",
        "cellView": "form"
      },
      "source": [
        "#@title [関数] 改訂履歴シート作成\n",
        "def createHistory():\n",
        "  #　改訂履歴シートを作成----------------------------------\n",
        "  book.create_sheet( '改訂履歴' )\n",
        "  current_sheet = book[ '改訂履歴'] \n",
        "\n",
        "  #目盛り線削除\n",
        "  current_sheet.sheet_view.showGridLines = False\n",
        "\n",
        "  # A列を狭く、B～H列の幅調整\n",
        "  setColume_size (current_sheet)\n",
        "\n",
        "  #印刷設定\n",
        "  printConfig( current_sheet)\n",
        "\n",
        "  #タイトル行を紺色に変更\n",
        "  setSheettitle(current_sheet)\n",
        "\n",
        "  #タイトルを記入\n",
        "  current_sheet['B2'].value = '改訂履歴'\n",
        "  \n",
        "  # datetimeインスタンスを作成\n",
        "  dt_now = datetime.datetime.now()\n",
        "\n",
        "  #列項目を作成\n",
        "  current_sheet['B4'].value = '●改訂履歴'\n",
        "  current_sheet['B5'].value = '版数'\n",
        "  current_sheet['C5'].value = '改訂日'\n",
        "  current_sheet['D5'].value = '改訂内容'\n",
        "  current_sheet['I5'].value = '改訂者'\n",
        "\n",
        "  # 2列目を記入\n",
        "  current_sheet['B6'].value = '1.0'\n",
        "  current_sheet['C6'].value = dt_now.strftime('%Y/%m/%d')\n",
        "  current_sheet['D6'].value = '新規作成'\n",
        "  current_sheet['I6'].value = 'CTC'\n",
        "\n",
        "\n",
        "  # 表作成\n",
        "  for border_y in range (5, 15):\n",
        "    #セル結合\n",
        "    current_sheet.merge_cells( current_sheet.cell( row=border_y , column= 4 ).coordinate +':' + current_sheet.cell( row=border_y , column= 8 ).coordinate )\n",
        "\n",
        "    # 罫線スタイル\n",
        "    side = Side(style='thin', color='000000')\n",
        "    border = Border(top=side, bottom=side, left=side, right=side)\n",
        "\n",
        "    for border_x in range (2, 10):\n",
        "      #罫線\n",
        "      current_sheet[ current_sheet.cell( row=border_y , column= border_x ).coordinate ].border = border\n",
        "      #列名を白に変更\n",
        "      current_sheet[current_sheet.cell( row=5 , column= border_x ).coordinate].font = Font(color='FFFFFF' )\n",
        "      #列背景色を白に変更\n",
        "      current_sheet[current_sheet.cell( row=5 , column= border_x ).coordinate].fill = openpyxl.styles.PatternFill(patternType='solid',fgColor='6495ED',bgColor='6495ED')\n",
        "\n"
      ],
      "execution_count": null,
      "outputs": []
    },
    {
      "cell_type": "code",
      "metadata": {
        "id": "yXKPijuz4UJn",
        "cellView": "form"
      },
      "source": [
        "#@title [関数] コンフィグシート作成\n",
        "def createConfigsheet():\n",
        "  #シートを周回\n",
        "  for configfile_i in  range ( len(splitConfig()) ):\n",
        "    config_list = readConfigsplit( '/content/config/config_' + str(configfile_i).zfill(3) + '.txt' )\n",
        "\n",
        "    # エクセルファイルに書き込み\n",
        "\n",
        "    #シート名を設定\n",
        "    sheet_name = 'config_' + str(configfile_i).zfill(3)\n",
        "\n",
        "    #シートを作成\n",
        "    book.create_sheet( sheet_name )\n",
        "\n",
        "    #作成したシートに切り替え\n",
        "    current_sheet = book[sheet_name] \n",
        "\n",
        "    #目盛り線削除\n",
        "    current_sheet.sheet_view.showGridLines = False\n",
        "\n",
        "\n",
        "    #印刷設定\n",
        "    printConfig(current_sheet)\n",
        "\n",
        "    # A列を狭く、B～H列の幅調整\n",
        "    setColume_size ( current_sheet )\n",
        "    \n",
        "    # セルへの書き込み開始-----------------------------------\n",
        "\n",
        "    # 1行ずつ読み込み\n",
        "    for write_y in range (1, len(config_list)) :\n",
        "          \n",
        "      # さらに1セルずつ読み込み\n",
        "      for write_x in range (1, len(config_list[write_y -1])+1 ):\n",
        "\n",
        "        #セルに書き込み（スペースでセルを区切る）\n",
        "        current_sheet.cell( row=write_y+1, column=write_x+1 ).value = config_list[ write_y -1][write_x -1 ] \n",
        "        cell_now = current_sheet.cell( row=write_y+1, column=write_x+1 )\n",
        "\n"
      ],
      "execution_count": null,
      "outputs": []
    },
    {
      "cell_type": "code",
      "metadata": {
        "cellView": "form",
        "id": "JP1505gQ3gvq"
      },
      "source": [
        "#@title [関数]テーブル作成\n",
        "def createTable():\n",
        "  #シートを周回\n",
        "  for configfile_i in  range ( len(splitConfig()) ):\n",
        "    config_list = readConfigsplit( '/content/config/config_' + str(configfile_i).zfill(3) + '.txt' )\n",
        "\n",
        "    #シート名を設定\n",
        "    sheet_name = 'config_' + str(configfile_i).zfill(3)\n",
        "\n",
        "    #シートを切り替え\n",
        "    current_sheet = book[sheet_name] \n",
        "\n",
        "    #タイトル行を紺色に変更\n",
        "    setSheettitle( current_sheet)\n",
        "\n",
        "    # 1行ずつ読み込み\n",
        "    for write_y in range (3, len(config_list)) :\n",
        "          \n",
        "      # さらに1セルずつ読み込み\n",
        "      for write_x in range (1, len(config_list[write_y -1])+1 ):\n",
        "\n",
        "        #現在のセルの位置を取得 \n",
        "        cell_now = current_sheet.cell( row=write_y+1, column=write_x+1 )\n",
        "        \n",
        "        #現在のセルが空じゃない && ←左のセルが空 && ↑上のセルが空\n",
        "        #高さがあってない\n",
        "        if  cell_now.value  != '' and  current_sheet.cell( row=write_y+1, column=write_x ).value is None and current_sheet.cell( row=write_y, column=write_x+1 ).value is None:\n",
        "          # 現在のセルの真下のセルを取得\n",
        "          table_start = current_sheet.cell( row=write_y+2, column=write_x+1 ).coordinate\n",
        "\n",
        "        #現在のセルが空じゃない && ↑上のセルが空じゃない && →右のセルが空 && ↓下のセルが空 \n",
        "        elif  cell_now.value  != '' and current_sheet.cell( row=write_y, column=write_x+1 ).value is not None and current_sheet.cell( row=write_y+1, column=write_x+2 ).value is None and current_sheet.cell( row=write_y+2, column=write_x+1 ).value is None:\n",
        "          table_end = current_sheet.cell( row=write_y+1 , column= write_x +1 ).coordinate\n",
        "          \n",
        "          #テーブルを作成  \n",
        "          drawTable( current_sheet ,table_start ,table_end )   "
      ],
      "execution_count": null,
      "outputs": []
    },
    {
      "cell_type": "code",
      "metadata": {
        "cellView": "form",
        "id": "YeD1GZ6y2YEE"
      },
      "source": [
        "#@title [関数]シートタイトルの変更\n",
        "def changeSheetname():\n",
        "  for configfile_i in  range ( len(splitConfig()) ):\n",
        "    config_list = readConfigsplit( '/content/config/config_' + str(configfile_i).zfill(3) + '.txt' )\n",
        "\n",
        "    #シート名を設定\n",
        "    sheet_name = 'config_' + str(configfile_i).zfill(3)\n",
        "    \n",
        "    #シートタイトルを変更（空のときはスキップ）\n",
        "    if config_list[0] != [] :\n",
        "      book[ sheet_name ].title = config_list[0][0]"
      ],
      "execution_count": null,
      "outputs": []
    },
    {
      "cell_type": "code",
      "metadata": {
        "cellView": "form",
        "id": "yYhiHvWtz3wS"
      },
      "source": [
        "#@title [関数]設置先情報シート作成\n",
        "def createCustomer():\n",
        "  book.create_sheet( '設置先情報' )\n",
        "  current_sheet = book[ '設置先情報'] \n",
        "\n",
        "  #目盛り線削除\n",
        "  current_sheet.sheet_view.showGridLines = False\n",
        "\n",
        "  # A列を狭く、B～H列の幅調整\n",
        "  setColume_size (current_sheet)\n",
        "\n",
        "  #印刷設定\n",
        "  printConfig(current_sheet)\n",
        "\n",
        "  #タイトル行を紺色に変更\n",
        "  setSheettitle(current_sheet)\n",
        "\n",
        "  #タイトルを記入\n",
        "  current_sheet['B2'].value = '設置先情報'\n",
        "\n",
        "  # 表作成\n",
        "  for vborder_y in range ( len(customer_list)*3 ):\n",
        "\n",
        "    #セル結合\n",
        "    current_sheet.merge_cells( current_sheet.cell( row=vborder_y +5 , column= 2 ).coordinate +':' + current_sheet.cell( row=vborder_y+7 , column= 3 ).coordinate )\n",
        "    current_sheet.merge_cells( current_sheet.cell( row=vborder_y +5 , column= 4 ).coordinate +':' + current_sheet.cell( row=vborder_y+7 , column= 8 ).coordinate )\n",
        "\n",
        "    #列名を白に変更\n",
        "    current_sheet[current_sheet.cell( row=vborder_y +5 , column= 2 ).coordinate].font = Font(color='FFFFFF' )\n",
        "\n",
        "    #列背景色を青に変更\n",
        "    current_sheet[current_sheet.cell( row=vborder_y +5  , column= 2 ).coordinate].fill = openpyxl.styles.PatternFill(patternType='solid',fgColor='6495ED',bgColor='6495ED')\n",
        "\n",
        "  #罫線を描画\n",
        "  for rows in current_sheet['B5':'H19']:\n",
        "    for cell in rows:\n",
        "        cell.border = Border(left = side, right = side, top = side, bottom = side)\n",
        "  \n",
        "\n",
        "  #列項目を作成\n",
        "  for customer_y in range ( len(customer_list) ):\n",
        "    for customer_x in range ( len(customer_list[0])):\n",
        "      #列項目を作成\n",
        "      current_sheet.cell( row=customer_y*3 +5, column=customer_x*2 +2 ).value = customer_list[customer_y][customer_x]\n",
        "      #中央、左寄せ\n",
        "      current_sheet[ current_sheet.cell( row=customer_y*3 +5, column=customer_x*2 +2 ).coordinate].alignment = Alignment(horizontal = 'left', vertical = 'center', wrap_text = False)\n"
      ],
      "execution_count": null,
      "outputs": []
    },
    {
      "cell_type": "code",
      "metadata": {
        "id": "NO96HKJbBbC3",
        "colab": {
          "base_uri": "https://localhost:8080/"
        },
        "cellView": "form",
        "outputId": "c7a3b676-75b4-4821-b948-f1f1d2f6f93a"
      },
      "source": [
        "#@title クラスター名を取得\n",
        "\n",
        "exec( '{} = {}'.format( cluster_word_list[1], ' getPatternline(cluster_word_list)[0][1].replace(\" \",\"\")'))\n"
      ],
      "execution_count": null,
      "outputs": [
        {
          "output_type": "stream",
          "text": [
            "[('Cluster Name', ' YD204S30')]\n"
          ],
          "name": "stdout"
        }
      ]
    },
    {
      "cell_type": "code",
      "metadata": {
        "id": "8RPIKYb3TXjy",
        "cellView": "form"
      },
      "source": [
        "#@title テキストの分割を実行\n",
        "\n",
        "# 分割するテキストフォルダを初期化\n",
        "initConfigfolder()\n",
        "\n",
        "# 元テキストから不要なテキストを削除\n",
        "replaceConfig(  )\n",
        "\n",
        "# 元テキストを分割\n",
        "splitConfig( )\n"
      ],
      "execution_count": null,
      "outputs": []
    },
    {
      "cell_type": "code",
      "metadata": {
        "id": "62YgGiVh-R62",
        "cellView": "form"
      },
      "source": [
        "#@title エクセルファイルへの書き込み\n",
        "\n",
        "# エクセルファイル（インスタンス）を新規作成\n",
        "book = openpyxl.Workbook()\n",
        "\n",
        "#　表紙シートを作成----------------------------------\n",
        "createCover(cluster_name)\n",
        "\n",
        "#　改訂履歴シートを作成----------------------------------\n",
        "createHistory()\n",
        "\n",
        "#　コンフィグシートを作成----------------------------------\n",
        "createConfigsheet()\n",
        "\n",
        "#テーブル（表）作成-------------------------------------\n",
        "createTable()\n",
        "\n",
        "#シートタイトルを変更----------------------------------------------\n",
        "\n",
        "changeSheetname()\n",
        "\n",
        "# クラスターシートを編集----------------------------------\n",
        "current_sheet = book['Cluster'] \n",
        "\n",
        "#列名を白に変更\n",
        "current_sheet[current_sheet.cell( row=4 , column=2 ).coordinate].font = Font(color='FFFFFF' )\n",
        "\n",
        "#列背景色を青に変更\n",
        "current_sheet[current_sheet.cell( row=4 , column= 2 ).coordinate].fill = openpyxl.styles.PatternFill(patternType='solid',fgColor='6495ED',bgColor='6495ED')\n",
        "\n",
        "# 罫線スタイル\n",
        "side = Side(style='thin', color='000000')\n",
        "border = Border(top=side, bottom=side, left=side, right=side)\n",
        "\n",
        "\n",
        "#罫線を描画\n",
        "current_sheet[ 'B4' ].border = Border(left = side, right = side, top = side, bottom = side)\n",
        "current_sheet[ 'C4' ].border = Border(left = side, right = None, top = side, bottom = side)\n",
        "\n",
        "for rows in current_sheet['D4':'F4']:\n",
        "  for cell in rows:\n",
        "    cell.border = Border(left = None, right = None, top = side, bottom = side,  )\n",
        "\n",
        "current_sheet[ 'G4' ].border = Border(left = None, right = side, top = side, bottom = side)\n",
        "\n",
        "#項目名を編集\n",
        "current_sheet.cell( row=4, column=2 ).value = \"Cluster Name\" \n",
        "current_sheet.cell( row=4, column=3 ).value = cluster_name \n",
        "\n",
        "#　設置先情報シートを作成----------------------------------\n",
        "\n",
        "createCustomer()\n",
        "\n",
        "#↑↑↑↑↑↑↑↑↑↑↑↑↑↑↑↑↑↑↑↑\n",
        "\n",
        "\n",
        "\n",
        "\n",
        "\n",
        "\n",
        "\n",
        "\n",
        "\n",
        "#↓↓↓↓↓↓↓↓↓↓↓↓↓↓↓↓↓↓↓↓\n",
        "# 余計なシートを削除--------------------------------\n",
        "book.remove_sheet( book.get_sheet_by_name('Sheet'))\n",
        "book.remove_sheet( book.get_sheet_by_name('config_000'))\n",
        "book.remove_sheet( book.get_sheet_by_name('setup'))\n",
        "book.remove_sheet( book.get_sheet_by_name('end'))\n",
        "\n",
        "\n",
        "# エクセルファイルを保存-----------------------------\n",
        "book.save('/content/01_設定シート_'+ cluster_name +'.xlsx')\n"
      ],
      "execution_count": null,
      "outputs": []
    },
    {
      "cell_type": "code",
      "metadata": {
        "id": "KsdBAYak37i5",
        "colab": {
          "base_uri": "https://localhost:8080/",
          "height": 17
        },
        "cellView": "form",
        "outputId": "2858ce50-aaee-4809-ac9f-7ed5fe3cf41f"
      },
      "source": [
        "#@title ファイルダウンロード\n",
        "files.download('/content/01_設定シート_'+ cluster_name +'.xlsx')"
      ],
      "execution_count": null,
      "outputs": [
        {
          "output_type": "display_data",
          "data": {
            "application/javascript": [
              "\n",
              "    async function download(id, filename, size) {\n",
              "      if (!google.colab.kernel.accessAllowed) {\n",
              "        return;\n",
              "      }\n",
              "      const div = document.createElement('div');\n",
              "      const label = document.createElement('label');\n",
              "      label.textContent = `Downloading \"${filename}\": `;\n",
              "      div.appendChild(label);\n",
              "      const progress = document.createElement('progress');\n",
              "      progress.max = size;\n",
              "      div.appendChild(progress);\n",
              "      document.body.appendChild(div);\n",
              "\n",
              "      const buffers = [];\n",
              "      let downloaded = 0;\n",
              "\n",
              "      const channel = await google.colab.kernel.comms.open(id);\n",
              "      // Send a message to notify the kernel that we're ready.\n",
              "      channel.send({})\n",
              "\n",
              "      for await (const message of channel.messages) {\n",
              "        // Send a message to notify the kernel that we're ready.\n",
              "        channel.send({})\n",
              "        if (message.buffers) {\n",
              "          for (const buffer of message.buffers) {\n",
              "            buffers.push(buffer);\n",
              "            downloaded += buffer.byteLength;\n",
              "            progress.value = downloaded;\n",
              "          }\n",
              "        }\n",
              "      }\n",
              "      const blob = new Blob(buffers, {type: 'application/binary'});\n",
              "      const a = document.createElement('a');\n",
              "      a.href = window.URL.createObjectURL(blob);\n",
              "      a.download = filename;\n",
              "      div.appendChild(a);\n",
              "      a.click();\n",
              "      div.remove();\n",
              "    }\n",
              "  "
            ],
            "text/plain": [
              "<IPython.core.display.Javascript object>"
            ]
          },
          "metadata": {
            "tags": []
          }
        },
        {
          "output_type": "display_data",
          "data": {
            "application/javascript": [
              "download(\"download_1fd9862b-f691-42a5-ab55-ff761fb78f37\", \"01_\\u8a2d\\u5b9a\\u30b7\\u30fc\\u30c8_YD204S30.xlsx\", 37519)"
            ],
            "text/plain": [
              "<IPython.core.display.Javascript object>"
            ]
          },
          "metadata": {
            "tags": []
          }
        }
      ]
    }
  ]
}
